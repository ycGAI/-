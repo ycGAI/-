{
 "cells": [
  {
   "cell_type": "markdown",
   "id": "adb6de5d-c6ae-4544-96c6-820bb5fa6267",
   "metadata": {},
   "source": [
    "**1.softmax如何防止指数上溢和下溢**    \n",
    "如果有一个input是很大的正数，那么这个input的exp将可能指数上溢；同理，如果输入是一个非常小的负数，那么这个input的exp将会非常接近0，softmat的分母为0，结果就会报错       "
   ]
  }
 ],
 "metadata": {
  "kernelspec": {
   "display_name": "Python 3 (ipykernel)",
   "language": "python",
   "name": "python3"
  },
  "language_info": {
   "codemirror_mode": {
    "name": "ipython",
    "version": 3
   },
   "file_extension": ".py",
   "mimetype": "text/x-python",
   "name": "python",
   "nbconvert_exporter": "python",
   "pygments_lexer": "ipython3",
   "version": "3.9.19"
  }
 },
 "nbformat": 4,
 "nbformat_minor": 5
}
