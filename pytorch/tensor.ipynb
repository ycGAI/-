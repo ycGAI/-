{
 "cells": [
  {
   "cell_type": "markdown",
   "id": "e24fa4f5-a6fa-4e0c-b17f-b801f867abc7",
   "metadata": {},
   "source": [
    "https://zhuanlan.zhihu.com/p/643538532     \n",
    "讲解torch.stack和torch.cat的区别"
   ]
  },
  {
   "cell_type": "markdown",
   "id": "3bf34bdc-1700-4d22-9ae6-be3d077f17aa",
   "metadata": {},
   "source": [
    "https://blog.csdn.net/qian2213762498/article/details/88760496    \n",
    "讲解torch.sequeeze和torch.unsequeeze"
   ]
  },
  {
   "cell_type": "code",
   "execution_count": null,
   "id": "2bec0a39-ca9a-4c78-89de-a9bcfe8a8f33",
   "metadata": {},
   "outputs": [],
   "source": []
  }
 ],
 "metadata": {
  "kernelspec": {
   "display_name": "Python 3 (ipykernel)",
   "language": "python",
   "name": "python3"
  },
  "language_info": {
   "codemirror_mode": {
    "name": "ipython",
    "version": 3
   },
   "file_extension": ".py",
   "mimetype": "text/x-python",
   "name": "python",
   "nbconvert_exporter": "python",
   "pygments_lexer": "ipython3",
   "version": "3.9.19"
  }
 },
 "nbformat": 4,
 "nbformat_minor": 5
}
