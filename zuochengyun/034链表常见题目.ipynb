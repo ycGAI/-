{
 "cells": [
  {
   "cell_type": "markdown",
   "id": "ea514cca-0da5-4ad3-ba9d-fb5759641529",
   "metadata": {},
   "source": [
    "返回两个无环链表相交的第一个节点\n",
    "// 测试链接 : https://leetcode.cn/problems/intersection-of-two-linked-lists/"
   ]
  },
  {
   "cell_type": "markdown",
   "id": "f19b81ee-7a1f-493f-8f2d-4bf8d873f919",
   "metadata": {},
   "source": [
    "如果只是判断两个链表是否有相交，那么可以判断两个链表的最后一个结点是否相等；如果相等那么一定相交"
   ]
  },
  {
   "cell_type": "markdown",
   "id": "cea1a1ff-8780-43a1-8000-7305409ab953",
   "metadata": {},
   "source": [
    "每k个节点一组翻转链表\n",
    "// 测试链接：https://leetcode.cn/problems/reverse-nodes-in-k-group/"
   ]
  },
  {
   "cell_type": "code",
   "execution_count": null,
   "id": "c8022c03-8768-4b4f-a8e0-84212646607b",
   "metadata": {},
   "outputs": [],
   "source": []
  }
 ],
 "metadata": {
  "kernelspec": {
   "display_name": "Python 3 (ipykernel)",
   "language": "python",
   "name": "python3"
  },
  "language_info": {
   "codemirror_mode": {
    "name": "ipython",
    "version": 3
   },
   "file_extension": ".py",
   "mimetype": "text/x-python",
   "name": "python",
   "nbconvert_exporter": "python",
   "pygments_lexer": "ipython3",
   "version": "3.9.19"
  }
 },
 "nbformat": 4,
 "nbformat_minor": 5
}
