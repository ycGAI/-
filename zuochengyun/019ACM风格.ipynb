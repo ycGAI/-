{
 "cells": [
  {
   "cell_type": "markdown",
   "id": "11c3180a-196c-4ea1-8ddd-4491ae2e33de",
   "metadata": {},
   "source": [
    "使用sys.stdout()/sys.stdin和readline()来读取数据"
   ]
  },
  {
   "cell_type": "markdown",
   "id": "69300309-0a87-41fb-8d1c-5807adffb006",
   "metadata": {},
   "source": [
    "去搜一下python中acm风格的io"
   ]
  },
  {
   "cell_type": "code",
   "execution_count": null,
   "id": "42b99373-b826-40ee-97f0-5a6beb0f4a41",
   "metadata": {},
   "outputs": [],
   "source": []
  }
 ],
 "metadata": {
  "kernelspec": {
   "display_name": "Python 3 (ipykernel)",
   "language": "python",
   "name": "python3"
  },
  "language_info": {
   "codemirror_mode": {
    "name": "ipython",
    "version": 3
   },
   "file_extension": ".py",
   "mimetype": "text/x-python",
   "name": "python",
   "nbconvert_exporter": "python",
   "pygments_lexer": "ipython3",
   "version": "3.9.19"
  }
 },
 "nbformat": 4,
 "nbformat_minor": 5
}
