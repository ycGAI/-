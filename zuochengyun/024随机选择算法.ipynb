{
 "cells": [
  {
   "cell_type": "markdown",
   "id": "7ee8f189-330c-4ab3-86ff-37b9377d7086",
   "metadata": {},
   "source": [
    "无序数组中寻找第k大的数       \n",
    "给定整数组nums和整数k，请返回数组中第k个最大的元素    \n",
    "LCR 076."
   ]
  },
  {
   "cell_type": "code",
   "execution_count": 4,
   "id": "d0a4253b-2928-489e-8e36-218ed16a864e",
   "metadata": {},
   "outputs": [],
   "source": [
    "import random\n",
    "class Solution:\n",
    "    def findKthLargest(self, nums, k):\n",
    "        return self.randomizedSelect(nums, len(nums) - k)   \n",
    "    def randomizedSelect(self, arr, i: int) -> int:\n",
    "        l, r = 0, len(arr) - 1     \n",
    "        while l <= r:\n",
    "            pivot_idx = l + random.randint(0, r - l)\n",
    "            pivot = arr[pivot_idx]\n",
    "            first, last = self.partition(arr, l, r, pivot)\n",
    "            if i < first:\n",
    "                r = first - 1\n",
    "            elif i > last:\n",
    "                l = last + 1\n",
    "            else:\n",
    "                return arr[i]        \n",
    "        return arr[i]    \n",
    "    def partition(self, arr, l: int, r: int, x: int) -> tuple:\n",
    "        first = l\n",
    "        last = r\n",
    "        i = l       \n",
    "        while i <= last:\n",
    "            if arr[i] == x:\n",
    "                i += 1\n",
    "            elif arr[i] < x:\n",
    "                arr[first], arr[i] = arr[i], arr[first]\n",
    "                first += 1\n",
    "                i += 1\n",
    "            else:\n",
    "                arr[i], arr[last] = arr[last], arr[i]\n",
    "                last -= 1        \n",
    "        return first, last"
   ]
  },
  {
   "cell_type": "code",
   "execution_count": null,
   "id": "b7730980-8607-4a28-acfe-9b5d2cbf314f",
   "metadata": {},
   "outputs": [],
   "source": []
  }
 ],
 "metadata": {
  "kernelspec": {
   "display_name": "Python 3 (ipykernel)",
   "language": "python",
   "name": "python3"
  },
  "language_info": {
   "codemirror_mode": {
    "name": "ipython",
    "version": 3
   },
   "file_extension": ".py",
   "mimetype": "text/x-python",
   "name": "python",
   "nbconvert_exporter": "python",
   "pygments_lexer": "ipython3",
   "version": "3.9.19"
  }
 },
 "nbformat": 4,
 "nbformat_minor": 5
}
