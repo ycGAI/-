{
 "cells": [
  {
   "cell_type": "markdown",
   "id": "3c1cc0ac-86f7-4fff-bd1f-420534a393ef",
   "metadata": {},
   "source": [
    "对于那种能够确定哪一侧**必定有解或者必定没有解**的情况，就可以使用二分搜索，不一定要是有序数组"
   ]
  },
  {
   "cell_type": "markdown",
   "id": "2216b745-efc3-42ff-8f1a-85216afc6380",
   "metadata": {},
   "source": [
    "class solution:\n",
    "    def binarysearch(self, arr, num):\n",
    "        if arr == None or len(arr) == 0:\n",
    "            return False\n",
    "        l = 0\n",
    "        r = len(arr) - 1\n",
    "        while l <= r:\n",
    "            m = (r + l) // 2\n",
    "            if arr[m] == num:\n",
    "                return True\n",
    "            elif arr[m] > num:\n",
    "                r = m - 1\n",
    "            else:\n",
    "                l = m +  1\n",
    "        return False"
   ]
  },
  {
   "cell_type": "code",
   "execution_count": 20,
   "id": "ac6f792d-1c0c-4e23-bc3c-29575b30e1ba",
   "metadata": {},
   "outputs": [],
   "source": [
    "a = [1,2,4,5,7,8,9,10]"
   ]
  },
  {
   "cell_type": "code",
   "execution_count": 21,
   "id": "4307f121-f3e7-4fd6-a21f-ff8d5d7a8006",
   "metadata": {},
   "outputs": [
    {
     "name": "stdout",
     "output_type": "stream",
     "text": [
      "False\n"
     ]
    }
   ],
   "source": [
    "s = solution()\n",
    "r = s.binarysearch(a,11)\n",
    "print(r)"
   ]
  },
  {
   "cell_type": "markdown",
   "id": "0ec6e22e-7c31-4380-be18-d073eb4839cf",
   "metadata": {},
   "source": [
    "寻找>=num最左位置的数字"
   ]
  },
  {
   "cell_type": "code",
   "execution_count": 39,
   "id": "309f18d0-16ef-4933-aa00-978b61931e74",
   "metadata": {},
   "outputs": [],
   "source": [
    "class solution:\n",
    "    def binarysearch_left(self, arr, num):\n",
    "        if arr == None or len(arr) == 0:\n",
    "            return -1\n",
    "        l = 0\n",
    "        r = len(arr) - 1\n",
    "        ans = -1\n",
    "        while l <= r:\n",
    "            m = (l + r) // 2\n",
    "            if arr[m] >= num:\n",
    "                ans = m\n",
    "                r = m - 1\n",
    "            else:\n",
    "                l = m + 1 \n",
    "        return ans "
   ]
  },
  {
   "cell_type": "code",
   "execution_count": 41,
   "id": "85867a9d-0e47-4ed1-9fb9-335331cb5c1f",
   "metadata": {},
   "outputs": [
    {
     "name": "stdout",
     "output_type": "stream",
     "text": [
      "-1\n"
     ]
    }
   ],
   "source": [
    "a = [1,2,4,5,7,8,9,10]\n",
    "s = solution()\n",
    "r = s.binarysearch_left(a, 11)\n",
    "print(r)"
   ]
  },
  {
   "cell_type": "markdown",
   "id": "0cc674aa-006a-4926-bbb0-d688097fbccb",
   "metadata": {},
   "source": [
    "更安全的去算二分是l+(r-l)/2，防止超过32位能表达的最大数字"
   ]
  },
  {
   "cell_type": "markdown",
   "id": "0cd66342-f56b-4f90-b05b-e295ef7926f4",
   "metadata": {},
   "source": [
    "寻找小于num的最右位置"
   ]
  },
  {
   "cell_type": "code",
   "execution_count": 47,
   "id": "6637538f-2ed7-44a1-ba7f-b2742909ea34",
   "metadata": {},
   "outputs": [],
   "source": [
    "class solution:\n",
    "    def binarysearch_right(self, arr, num):\n",
    "        if arr == None or len(arr) == 0:\n",
    "            return -1\n",
    "        l = 0\n",
    "        r = len(arr) - 1\n",
    "        ans = -1\n",
    "        while r >= l:\n",
    "            m = l + (r - l) // 2\n",
    "            if arr[m] <= num:\n",
    "                ans = m\n",
    "                l = m + 1\n",
    "            else:\n",
    "                r = m - 1\n",
    "        return ans"
   ]
  },
  {
   "cell_type": "code",
   "execution_count": 51,
   "id": "ac6571fd-7893-405e-8c9e-e7e21dfcb2bb",
   "metadata": {},
   "outputs": [
    {
     "name": "stdout",
     "output_type": "stream",
     "text": [
      "7\n"
     ]
    }
   ],
   "source": [
    "a = [1,2,4,5,7,8,9,10]\n",
    "s = solution()\n",
    "r = s.binarysearch_right(a, 11)\n",
    "print(r)"
   ]
  },
  {
   "cell_type": "markdown",
   "id": "883080ed-e7a5-4966-9145-3170bca45499",
   "metadata": {},
   "source": [
    "leetcode:162      \n",
    "在一个无序但是不存在连续相等的数组中，寻找任意峰值，认为-1位置和len(arr)位置的数值为无穷小"
   ]
  },
  {
   "cell_type": "code",
   "execution_count": 54,
   "id": "3c54b212-f060-4b51-98c2-dd4564f299f0",
   "metadata": {},
   "outputs": [],
   "source": [
    "class solution:\n",
    "    def binarysearch_localmax(self, arr):\n",
    "        if len(arr) == 1:\n",
    "            return 0\n",
    "        if arr[0] > arr[1]:\n",
    "            return 0\n",
    "        if arr[-1] > arr[-2]:\n",
    "            return len(arr)-1\n",
    "        l = 1\n",
    "        r = len(arr) -2\n",
    "        ans = -1\n",
    "        while l <= r:\n",
    "            m = l + (r-l) // 2\n",
    "            if arr[m-1] > arr[m]:\n",
    "                r = m -1\n",
    "            elif arr[m] < arr[m+1]:\n",
    "                l = m + 1\n",
    "            else:\n",
    "                ans = m\n",
    "                break\n",
    "        return ans"
   ]
  },
  {
   "cell_type": "code",
   "execution_count": 55,
   "id": "2cdbcfad-4db2-4874-82f3-fb6c31ac8283",
   "metadata": {},
   "outputs": [
    {
     "name": "stdout",
     "output_type": "stream",
     "text": [
      "6\n"
     ]
    }
   ],
   "source": [
    "a = [1,2,4,5,6,7,8,1]\n",
    "s = solution()\n",
    "r = s.binarysearch_localmax(a)\n",
    "print(r)"
   ]
  },
  {
   "cell_type": "code",
   "execution_count": null,
   "id": "7f2857b3-72c5-47bc-a7d1-6b7f3d89bd82",
   "metadata": {},
   "outputs": [],
   "source": []
  }
 ],
 "metadata": {
  "kernelspec": {
   "display_name": "Python 3 (ipykernel)",
   "language": "python",
   "name": "python3"
  },
  "language_info": {
   "codemirror_mode": {
    "name": "ipython",
    "version": 3
   },
   "file_extension": ".py",
   "mimetype": "text/x-python",
   "name": "python",
   "nbconvert_exporter": "python",
   "pygments_lexer": "ipython3",
   "version": "3.9.19"
  }
 },
 "nbformat": 4,
 "nbformat_minor": 5
}
