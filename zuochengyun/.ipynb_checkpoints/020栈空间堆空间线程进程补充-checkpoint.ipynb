{
 "cells": [
  {
   "cell_type": "markdown",
   "id": "319d9a95-7864-4748-928c-2388ae9a78d3",
   "metadata": {},
   "source": [
    "**线程和进程**      \n",
    "**进程是资源分配的最小单位，线程是cpu调度的最小单位**     \n",
    "比喻：进程=火车，线程=车厢     \n",
    "·线程再进程下行进（单纯的车厢无法运行）    \n",
    "·一个进程可以包含多个线程（一辆火车可以有多个车厢）     \n",
    "·不同进程间数据很难共享（一辆火车上的乘客很难换到另外一辆火车上）    \n",
    "·同一进程下不同线程间数据很容易共享（a车厢换到b车厢很容易）       \n",
    "·进程要比线程消耗更多的计算资源（采用多列火车相比多个车厢更耗资源）    \n",
    "·进程间不会互相影响，一个线程挂掉将导致整个进程挂掉（一列火车不会影响到另一列火车，一列火车上的一节车厢着火了，将影响到所有车厢）     \n",
    "·进程可以拓展到多机，线程最多使用多核    \n",
    "·进程使用的内存地址可以上锁，即一个线程使用某些共享内存时，其他线程必须等它结束，才能使用这一块内存，**互斥锁**     \n",
    "·进程使用的内存地址可以限定使用量,**信号量**    \n",
    "对于**cpu密集型操作**（如数据预处理），使用**多进程**更有效      \n",
    "对于**IO密集型操作**（如数据加载），使用**多线程**更有效"
   ]
  },
  {
   "cell_type": "markdown",
   "id": "7e3a5a42-28e3-4bb1-90c9-29e077f35243",
   "metadata": {},
   "source": [
    "**栈内存**    \n",
    "栈内存是为线程留出的临时空间，每个线程都有一个固定大小的栈空间。栈空间的分配和回收是由系统来做的，不需要手动控制；"
   ]
  },
  {
   "cell_type": "markdown",
   "id": "e986857b-6d02-487e-bb24-aea7e6516718",
   "metadata": {},
   "source": [
    "**堆内存**      \n",
    "堆内存的一大特点就是大小不固定，可以动态扩容，空间由程序员动态分配，更加灵活；     \n",
    "容易产生**内存泄漏**，malloc出来没有free， new出来没有delete，都会产生内存泄漏    \n",
    "容易产生**内存碎片**，在分配和回收时需要对很多内存碎片进行整理，效率较低      \n",
    "**python内存管理**：https://zhuanlan.zhihu.com/p/164627977"
   ]
  },
  {
   "cell_type": "code",
   "execution_count": null,
   "id": "ced88d82-ce8b-42d6-8e1b-2eb43e58e410",
   "metadata": {},
   "outputs": [],
   "source": []
  }
 ],
 "metadata": {
  "kernelspec": {
   "display_name": "Python 3 (ipykernel)",
   "language": "python",
   "name": "python3"
  },
  "language_info": {
   "codemirror_mode": {
    "name": "ipython",
    "version": 3
   },
   "file_extension": ".py",
   "mimetype": "text/x-python",
   "name": "python",
   "nbconvert_exporter": "python",
   "pygments_lexer": "ipython3",
   "version": "3.9.19"
  }
 },
 "nbformat": 4,
 "nbformat_minor": 5
}
