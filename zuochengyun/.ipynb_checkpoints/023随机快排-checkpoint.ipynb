{
 "cells": [
  {
   "cell_type": "markdown",
   "id": "da3e5153-bca4-4c17-8474-9491c007442a",
   "metadata": {},
   "source": [
    "**经典随即快排**：随机选数组中的一个下标，用这个下标将数组划分，假设这个下标对应的数值是x，把数组划分成小于等于x的和大于x的，把x放到小于等于x区域的最右端，然后递归     \n",
    "leetcode 912"
   ]
  },
  {
   "cell_type": "code",
   "execution_count": 4,
   "id": "8f452573-6bc7-4836-8295-0c33631d8de2",
   "metadata": {},
   "outputs": [],
   "source": [
    "class Solution:\n",
    "    def sortArray(self, nums):\n",
    "        import random\n",
    "        \n",
    "        def quickSort(arr, l, r):\n",
    "            if l >= r:\n",
    "                return\n",
    "            pivot = arr[l + random.randint(0, r - l)]\n",
    "            left, right = partition(arr, l, r, pivot)\n",
    "\n",
    "            quickSort(arr, l, left - 1)\n",
    "            quickSort(arr, right + 1, r)\n",
    "        \n",
    "        def partition(arr, l, r, pivot):\n",
    "\n",
    "            left = l\n",
    "            right = r\n",
    "            i = l           \n",
    "            while i <= right:\n",
    "                if arr[i] < pivot:\n",
    "                    arr[left], arr[i] = arr[i], arr[left]\n",
    "                    left += 1\n",
    "                    i += 1\n",
    "                elif arr[i] > pivot:\n",
    "                    arr[i], arr[right] = arr[right], arr[i]\n",
    "                    right -= 1\n",
    "                else:\n",
    "                    i += 1\n",
    "            \n",
    "            return left, right\n",
    "\n",
    "        quickSort(nums, 0, len(nums) - 1)\n",
    "        return nums"
   ]
  },
  {
   "cell_type": "code",
   "execution_count": null,
   "id": "01d27c3f-d107-4011-b0f0-523721550bed",
   "metadata": {},
   "outputs": [],
   "source": []
  }
 ],
 "metadata": {
  "kernelspec": {
   "display_name": "Python 3 (ipykernel)",
   "language": "python",
   "name": "python3"
  },
  "language_info": {
   "codemirror_mode": {
    "name": "ipython",
    "version": 3
   },
   "file_extension": ".py",
   "mimetype": "text/x-python",
   "name": "python",
   "nbconvert_exporter": "python",
   "pygments_lexer": "ipython3",
   "version": "3.9.19"
  }
 },
 "nbformat": 4,
 "nbformat_minor": 5
}
