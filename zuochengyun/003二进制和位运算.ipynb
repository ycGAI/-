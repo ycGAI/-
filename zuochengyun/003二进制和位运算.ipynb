{
 "cells": [
  {
   "cell_type": "markdown",
   "id": "f7f6da72-a34d-48e5-81ac-c26855218b35",
   "metadata": {},
   "source": [
    "32位无符号能表达的范围就是0 ~ 2**32 - 1"
   ]
  },
  {
   "cell_type": "markdown",
   "id": "50e8a33e-61b7-4129-9a9e-fee4897ac823",
   "metadata": {},
   "source": [
    "-1的正数是0001，把0001减去1再取反，就是-1     \n",
    "-1 --> 0001 --> 0000 --> 1111"
   ]
  },
  {
   "cell_type": "markdown",
   "id": "4c1533e8-074d-45a2-9b87-7e96c2d53094",
   "metadata": {},
   "source": [
    "怎么知道1001是负几？    \n",
    "先取反就是0110，然后+1就是0111，那1001就是-7"
   ]
  },
  {
   "cell_type": "markdown",
   "id": "0aa57c31-0f4f-4def-a5b9-ad74b75bb5be",
   "metadata": {},
   "source": [
    "一个数**取反**之后再**加一**就是相反数"
   ]
  },
  {
   "cell_type": "markdown",
   "id": "c9237dbf-ff74-4e97-b97e-93c4fbeab1d8",
   "metadata": {},
   "source": [
    "取反加一和减一取反是等价的"
   ]
  },
  {
   "cell_type": "code",
   "execution_count": 8,
   "id": "3483547e-4970-472d-bd10-5a32e36c316a",
   "metadata": {
    "scrolled": true
   },
   "outputs": [
    {
     "data": {
      "text/plain": [
       "8"
      ]
     },
     "execution_count": 8,
     "metadata": {},
     "output_type": "execute_result"
    }
   ],
   "source": [
    "a = 0b0001010\n",
    "b = 0b0001100\n",
    "a ^ b#异或运算，对应位上相同则为0，不同则为1，所以是0b0000110\n",
    "a | b#或运算0b0001110\n",
    "a & b#与运算0b0001000"
   ]
  },
  {
   "cell_type": "markdown",
   "id": "691e9417-1313-48bb-9456-3e0b729c1c00",
   "metadata": {},
   "source": [
    "对于**逻辑运算符**存在逻辑短路，即a and b and c and ....    \n",
    "如果a为True的话，后面的就不执行了；同理对于and，变量为False后，后面的也不执行了     \n",
    "但是**位运算符**会把所有都执行了"
   ]
  },
  {
   "cell_type": "markdown",
   "id": "e3da1848-b7e5-45d9-8f73-acaa4d0023c1",
   "metadata": {},
   "source": [
    "把负数设计成这样：为了加法的逻辑是一套逻辑，没有条件转移"
   ]
  },
  {
   "cell_type": "code",
   "execution_count": 15,
   "id": "e798d693-ca05-434d-ba24-663680ce4488",
   "metadata": {},
   "outputs": [
    {
     "name": "stdout",
     "output_type": "stream",
     "text": [
      "00000000000000000000000000000011\n"
     ]
    }
   ],
   "source": [
    "num = 3\n",
    "for i in range(31, -1, -1): \n",
    "    print(\"1\" if (num & (1 << i)) else \"0\", end=\"\")\n",
    "print()  "
   ]
  },
  {
   "cell_type": "markdown",
   "id": "591cb334-49cd-4405-adff-67f0bd484bab",
   "metadata": {},
   "source": [
    "这个是对于32位int类型的，如果是long类型的话，1L << i,要不这个1就溢出了"
   ]
  },
  {
   "cell_type": "code",
   "execution_count": null,
   "id": "3a322f8a-1629-4098-a8c4-53a26a9e0f3c",
   "metadata": {},
   "outputs": [],
   "source": []
  }
 ],
 "metadata": {
  "kernelspec": {
   "display_name": "Python 3 (ipykernel)",
   "language": "python",
   "name": "python3"
  },
  "language_info": {
   "codemirror_mode": {
    "name": "ipython",
    "version": 3
   },
   "file_extension": ".py",
   "mimetype": "text/x-python",
   "name": "python",
   "nbconvert_exporter": "python",
   "pygments_lexer": "ipython3",
   "version": "3.9.19"
  }
 },
 "nbformat": 4,
 "nbformat_minor": 5
}
